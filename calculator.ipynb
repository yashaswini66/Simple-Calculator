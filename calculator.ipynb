{
 "cells": [
  {
   "cell_type": "code",
   "execution_count": 5,
   "id": "918db8a1-8c75-4251-8cdb-9605f74382a3",
   "metadata": {},
   "outputs": [
    {
     "name": "stdout",
     "output_type": "stream",
     "text": [
      "^C\n",
      "Requirement already satisfied: flask in c:\\users\\yashu\\anaconda3\\lib\\site-packages (3.0.3)\n",
      "Requirement already satisfied: Werkzeug>=3.0.0 in c:\\users\\yashu\\anaconda3\\lib\\site-packages (from flask) (3.0.3)\n",
      "Requirement already satisfied: Jinja2>=3.1.2 in c:\\users\\yashu\\anaconda3\\lib\\site-packages (from flask) (3.1.4)\n",
      "Requirement already satisfied: itsdangerous>=2.1.2 in c:\\users\\yashu\\anaconda3\\lib\\site-packages (from flask) (2.2.0)\n",
      "Requirement already satisfied: click>=8.1.3 in c:\\users\\yashu\\anaconda3\\lib\\site-packages (from flask) (8.1.7)\n",
      "Requirement already satisfied: blinker>=1.6.2 in c:\\users\\yashu\\anaconda3\\lib\\site-packages (from flask) (1.6.2)\n",
      "Requirement already satisfied: colorama in c:\\users\\yashu\\anaconda3\\lib\\site-packages (from click>=8.1.3->flask) (0.4.6)\n",
      "Requirement already satisfied: MarkupSafe>=2.0 in c:\\users\\yashu\\anaconda3\\lib\\site-packages (from Jinja2>=3.1.2->flask) (2.1.3)\n"
     ]
    }
   ],
   "source": [
    "!pip install flask\n"
   ]
  },
  {
   "cell_type": "code",
   "execution_count": 1,
   "id": "0524fba9-b6b3-4a08-b219-db3bccd55d5f",
   "metadata": {},
   "outputs": [
    {
     "name": "stdout",
     "output_type": "stream",
     "text": [
      "Flask Calculator is running...\n",
      " * Serving Flask app '__main__'\n",
      " * Debug mode: on\n"
     ]
    },
    {
     "name": "stderr",
     "output_type": "stream",
     "text": [
      "WARNING: This is a development server. Do not use it in a production deployment. Use a production WSGI server instead.\n",
      " * Running on all addresses (0.0.0.0)\n",
      " * Running on http://127.0.0.1:5001\n",
      " * Running on http://192.168.30.123:5001\n",
      "Press CTRL+C to quit\n",
      " * Restarting with watchdog (windowsapi)\n"
     ]
    },
    {
     "ename": "SystemExit",
     "evalue": "1",
     "output_type": "error",
     "traceback": [
      "An exception has occurred, use %tb to see the full traceback.\n",
      "\u001b[1;31mSystemExit\u001b[0m\u001b[1;31m:\u001b[0m 1\n"
     ]
    },
    {
     "name": "stderr",
     "output_type": "stream",
     "text": [
      "C:\\Users\\yashu\\anaconda3\\Lib\\site-packages\\IPython\\core\\interactiveshell.py:3585: UserWarning: To exit: use 'exit', 'quit', or Ctrl-D.\n",
      "  warn(\"To exit: use 'exit', 'quit', or Ctrl-D.\", stacklevel=1)\n"
     ]
    }
   ],
   "source": [
    "from flask import Flask, request\n",
    "\n",
    "app = Flask(__name__)\n",
    "\n",
    "@app.route('/')\n",
    "def home():\n",
    "    return '''\n",
    "    <h2>Simple Calculator</h2>\n",
    "    <form action=\"/calculate\" method=\"post\">\n",
    "        <label>Number 1:</label>\n",
    "        <input type=\"number\" name=\"num1\" required>\n",
    "        <br><br>\n",
    "        <label>Number 2:</label>\n",
    "        <input type=\"number\" name=\"num2\" required>\n",
    "        <br><br>\n",
    "        <label>Operation:</label>\n",
    "        <select name=\"operation\">\n",
    "            <option value=\"add\">Addition (+)</option>\n",
    "            <option value=\"subtract\">Subtraction (-)</option>\n",
    "            <option value=\"multiply\">Multiplication (*)</option>\n",
    "            <option value=\"divide\">Division (/)</option>\n",
    "        </select>\n",
    "        <br><br>\n",
    "        <button type=\"submit\">Calculate</button>\n",
    "    </form>\n",
    "    '''\n",
    "\n",
    "@app.route('/calculate', methods=['POST'])\n",
    "def calculate():\n",
    "    try:\n",
    "        num1 = float(request.form['num1'])\n",
    "        num2 = float(request.form['num2'])\n",
    "        operation = request.form['operation']\n",
    "        \n",
    "        if operation == 'add':\n",
    "            result = num1 + num2\n",
    "        elif operation == 'subtract':\n",
    "            result = num1 - num2\n",
    "        elif operation == 'multiply':\n",
    "            result = num1 * num2\n",
    "        elif operation == 'divide':\n",
    "            if num2 == 0:\n",
    "                return \"<h2>Error: Division by zero is not allowed.</h2><a href='/'>Go back</a>\"\n",
    "            result = num1 / num2\n",
    "        else:\n",
    "            return \"<h2>Invalid operation!</h2><a href='/'>Go back</a>\"\n",
    "\n",
    "        return f'<h2>Result: {result}</h2><a href=\"/\">Go back</a>'\n",
    "    except Exception as e:\n",
    "        return f\"<h2>Error: {str(e)}</h2><a href='/'>Go back</a>\"\n",
    "\n",
    "if __name__ == '__main__':\n",
    "    import os\n",
    "    print(\"Flask Calculator is running...\")  # Debugging message\n",
    "    port = int(os.environ.get(\"PORT\", 5001))  # Run on port 5001 to avoid conflicts\n",
    "    app.run(host='0.0.0.0', port=port, debug=True)\n"
   ]
  },
  {
   "cell_type": "code",
   "execution_count": null,
   "id": "f6be3ce8-6029-43ac-ab42-9a324c637ac3",
   "metadata": {},
   "outputs": [],
   "source": []
  }
 ],
 "metadata": {
  "kernelspec": {
   "display_name": "Python 3 (ipykernel)",
   "language": "python",
   "name": "python3"
  },
  "language_info": {
   "codemirror_mode": {
    "name": "ipython",
    "version": 3
   },
   "file_extension": ".py",
   "mimetype": "text/x-python",
   "name": "python",
   "nbconvert_exporter": "python",
   "pygments_lexer": "ipython3",
   "version": "3.12.4"
  }
 },
 "nbformat": 4,
 "nbformat_minor": 5
}
